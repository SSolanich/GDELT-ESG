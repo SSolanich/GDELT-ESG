{
 "cells": [
  {
   "cell_type": "markdown",
   "metadata": {},
   "source": [
    "Este notebook toma los archivos masterfilelist.txt correspondientes al dataset gkg de gdelt y los filtra para solo extraer las tablas relevantes"
   ]
  },
  {
   "cell_type": "code",
   "execution_count": 2,
   "metadata": {},
   "outputs": [],
   "source": [
    "import pandas as pd"
   ]
  },
  {
   "cell_type": "code",
   "execution_count": 3,
   "metadata": {},
   "outputs": [],
   "source": [
    "df = pd.read_csv(\"masterfilelist-21feb2021.txt\", delimiter=' ', names=[\"link\"], usecols=[2])"
   ]
  },
  {
   "cell_type": "markdown",
   "metadata": {},
   "source": [
    "ya se tiene la columna de links, se agrega una columna de fechas"
   ]
  },
  {
   "cell_type": "code",
   "execution_count": 4,
   "metadata": {},
   "outputs": [],
   "source": [
    "df[\"dates\"] = df[\"link\"].str.split('/').str[-1].str.split('.').str[0].str[:8]"
   ]
  },
  {
   "cell_type": "markdown",
   "metadata": {},
   "source": [
    "se aplican filtros para fechas relevantes, y para obtener la tabla de interes (csv de gkg)"
   ]
  },
  {
   "cell_type": "code",
   "execution_count": 7,
   "metadata": {},
   "outputs": [],
   "source": [
    "# si no se desea filtrar por fecha no ejecutar esta celda\n",
    "df = df[df[\"dates\"] >= \"20201001\"] #el formato de 20201001 corresponde a 2020-10-01 (year-month-day)"
   ]
  },
  {
   "cell_type": "code",
   "execution_count": null,
   "metadata": {},
   "outputs": [],
   "source": [
    "df = df[df[\"link\"].str.endswith(\"gkg.csv.zip\")]"
   ]
  },
  {
   "cell_type": "code",
   "execution_count": 8,
   "metadata": {},
   "outputs": [
    {
     "data": {
      "text/html": [
       "<div>\n",
       "<style scoped>\n",
       "    .dataframe tbody tr th:only-of-type {\n",
       "        vertical-align: middle;\n",
       "    }\n",
       "\n",
       "    .dataframe tbody tr th {\n",
       "        vertical-align: top;\n",
       "    }\n",
       "\n",
       "    .dataframe thead th {\n",
       "        text-align: right;\n",
       "    }\n",
       "</style>\n",
       "<table border=\"1\" class=\"dataframe\">\n",
       "  <thead>\n",
       "    <tr style=\"text-align: right;\">\n",
       "      <th></th>\n",
       "      <th>link</th>\n",
       "      <th>dates</th>\n",
       "    </tr>\n",
       "  </thead>\n",
       "  <tbody>\n",
       "    <tr>\n",
       "      <th>583646</th>\n",
       "      <td>http://data.gdeltproject.org/gdeltv2/202010010...</td>\n",
       "      <td>20201001</td>\n",
       "    </tr>\n",
       "    <tr>\n",
       "      <th>583649</th>\n",
       "      <td>http://data.gdeltproject.org/gdeltv2/202010010...</td>\n",
       "      <td>20201001</td>\n",
       "    </tr>\n",
       "    <tr>\n",
       "      <th>583652</th>\n",
       "      <td>http://data.gdeltproject.org/gdeltv2/202010010...</td>\n",
       "      <td>20201001</td>\n",
       "    </tr>\n",
       "    <tr>\n",
       "      <th>583655</th>\n",
       "      <td>http://data.gdeltproject.org/gdeltv2/202010010...</td>\n",
       "      <td>20201001</td>\n",
       "    </tr>\n",
       "    <tr>\n",
       "      <th>583658</th>\n",
       "      <td>http://data.gdeltproject.org/gdeltv2/202010010...</td>\n",
       "      <td>20201001</td>\n",
       "    </tr>\n",
       "    <tr>\n",
       "      <th>...</th>\n",
       "      <td>...</td>\n",
       "      <td>...</td>\n",
       "    </tr>\n",
       "    <tr>\n",
       "      <th>618275</th>\n",
       "      <td>http://data.gdeltproject.org/gdeltv2/202102231...</td>\n",
       "      <td>20210223</td>\n",
       "    </tr>\n",
       "    <tr>\n",
       "      <th>618278</th>\n",
       "      <td>http://data.gdeltproject.org/gdeltv2/202102231...</td>\n",
       "      <td>20210223</td>\n",
       "    </tr>\n",
       "    <tr>\n",
       "      <th>618281</th>\n",
       "      <td>http://data.gdeltproject.org/gdeltv2/202102232...</td>\n",
       "      <td>20210223</td>\n",
       "    </tr>\n",
       "    <tr>\n",
       "      <th>618284</th>\n",
       "      <td>http://data.gdeltproject.org/gdeltv2/202102232...</td>\n",
       "      <td>20210223</td>\n",
       "    </tr>\n",
       "    <tr>\n",
       "      <th>618287</th>\n",
       "      <td>http://data.gdeltproject.org/gdeltv2/202102232...</td>\n",
       "      <td>20210223</td>\n",
       "    </tr>\n",
       "  </tbody>\n",
       "</table>\n",
       "<p>11548 rows × 2 columns</p>\n",
       "</div>"
      ],
      "text/plain": [
       "                                                     link     dates\n",
       "583646  http://data.gdeltproject.org/gdeltv2/202010010...  20201001\n",
       "583649  http://data.gdeltproject.org/gdeltv2/202010010...  20201001\n",
       "583652  http://data.gdeltproject.org/gdeltv2/202010010...  20201001\n",
       "583655  http://data.gdeltproject.org/gdeltv2/202010010...  20201001\n",
       "583658  http://data.gdeltproject.org/gdeltv2/202010010...  20201001\n",
       "...                                                   ...       ...\n",
       "618275  http://data.gdeltproject.org/gdeltv2/202102231...  20210223\n",
       "618278  http://data.gdeltproject.org/gdeltv2/202102231...  20210223\n",
       "618281  http://data.gdeltproject.org/gdeltv2/202102232...  20210223\n",
       "618284  http://data.gdeltproject.org/gdeltv2/202102232...  20210223\n",
       "618287  http://data.gdeltproject.org/gdeltv2/202102232...  20210223\n",
       "\n",
       "[11548 rows x 2 columns]"
      ]
     },
     "execution_count": 8,
     "metadata": {},
     "output_type": "execute_result"
    }
   ],
   "source": [
    "df"
   ]
  },
  {
   "cell_type": "code",
   "execution_count": 9,
   "metadata": {},
   "outputs": [],
   "source": [
    "# generar listado de links de descarga en archivo txt\n",
    "df.to_csv(\"english.gkg.oct2020-feb2021.txt\", index=False)"
   ]
  },
  {
   "cell_type": "code",
   "execution_count": 11,
   "metadata": {},
   "outputs": [
    {
     "data": {
      "text/html": [
       "<div>\n",
       "<style scoped>\n",
       "    .dataframe tbody tr th:only-of-type {\n",
       "        vertical-align: middle;\n",
       "    }\n",
       "\n",
       "    .dataframe tbody tr th {\n",
       "        vertical-align: top;\n",
       "    }\n",
       "\n",
       "    .dataframe thead th {\n",
       "        text-align: right;\n",
       "    }\n",
       "</style>\n",
       "<table border=\"1\" class=\"dataframe\">\n",
       "  <thead>\n",
       "    <tr style=\"text-align: right;\">\n",
       "      <th></th>\n",
       "      <th>link</th>\n",
       "      <th>dates</th>\n",
       "    </tr>\n",
       "  </thead>\n",
       "  <tbody>\n",
       "    <tr>\n",
       "      <th>0</th>\n",
       "      <td>http://data.gdeltproject.org/gdeltv2/202010010...</td>\n",
       "      <td>20201001</td>\n",
       "    </tr>\n",
       "    <tr>\n",
       "      <th>61</th>\n",
       "      <td>http://data.gdeltproject.org/gdeltv2/202010011...</td>\n",
       "      <td>20201001</td>\n",
       "    </tr>\n",
       "    <tr>\n",
       "      <th>59</th>\n",
       "      <td>http://data.gdeltproject.org/gdeltv2/202010011...</td>\n",
       "      <td>20201001</td>\n",
       "    </tr>\n",
       "    <tr>\n",
       "      <th>58</th>\n",
       "      <td>http://data.gdeltproject.org/gdeltv2/202010011...</td>\n",
       "      <td>20201001</td>\n",
       "    </tr>\n",
       "    <tr>\n",
       "      <th>57</th>\n",
       "      <td>http://data.gdeltproject.org/gdeltv2/202010011...</td>\n",
       "      <td>20201001</td>\n",
       "    </tr>\n",
       "    <tr>\n",
       "      <th>...</th>\n",
       "      <td>...</td>\n",
       "      <td>...</td>\n",
       "    </tr>\n",
       "    <tr>\n",
       "      <th>11488</th>\n",
       "      <td>http://data.gdeltproject.org/gdeltv2/202102230...</td>\n",
       "      <td>20210223</td>\n",
       "    </tr>\n",
       "    <tr>\n",
       "      <th>11487</th>\n",
       "      <td>http://data.gdeltproject.org/gdeltv2/202102230...</td>\n",
       "      <td>20210223</td>\n",
       "    </tr>\n",
       "    <tr>\n",
       "      <th>11486</th>\n",
       "      <td>http://data.gdeltproject.org/gdeltv2/202102230...</td>\n",
       "      <td>20210223</td>\n",
       "    </tr>\n",
       "    <tr>\n",
       "      <th>11494</th>\n",
       "      <td>http://data.gdeltproject.org/gdeltv2/202102230...</td>\n",
       "      <td>20210223</td>\n",
       "    </tr>\n",
       "    <tr>\n",
       "      <th>11547</th>\n",
       "      <td>http://data.gdeltproject.org/gdeltv2/202102232...</td>\n",
       "      <td>20210223</td>\n",
       "    </tr>\n",
       "  </tbody>\n",
       "</table>\n",
       "<p>11548 rows × 2 columns</p>\n",
       "</div>"
      ],
      "text/plain": [
       "                                                    link     dates\n",
       "0      http://data.gdeltproject.org/gdeltv2/202010010...  20201001\n",
       "61     http://data.gdeltproject.org/gdeltv2/202010011...  20201001\n",
       "59     http://data.gdeltproject.org/gdeltv2/202010011...  20201001\n",
       "58     http://data.gdeltproject.org/gdeltv2/202010011...  20201001\n",
       "57     http://data.gdeltproject.org/gdeltv2/202010011...  20201001\n",
       "...                                                  ...       ...\n",
       "11488  http://data.gdeltproject.org/gdeltv2/202102230...  20210223\n",
       "11487  http://data.gdeltproject.org/gdeltv2/202102230...  20210223\n",
       "11486  http://data.gdeltproject.org/gdeltv2/202102230...  20210223\n",
       "11494  http://data.gdeltproject.org/gdeltv2/202102230...  20210223\n",
       "11547  http://data.gdeltproject.org/gdeltv2/202102232...  20210223\n",
       "\n",
       "[11548 rows x 2 columns]"
      ]
     },
     "execution_count": 11,
     "metadata": {},
     "output_type": "execute_result"
    }
   ],
   "source": [
    "df_load = pd.read_csv(\"english.gkg.oct2020-feb2021.txt\")\n",
    "df_load.sort_values(\"dates\")"
   ]
  },
  {
   "cell_type": "code",
   "execution_count": 14,
   "metadata": {},
   "outputs": [
    {
     "data": {
      "text/html": [
       "<div>\n",
       "<style scoped>\n",
       "    .dataframe tbody tr th:only-of-type {\n",
       "        vertical-align: middle;\n",
       "    }\n",
       "\n",
       "    .dataframe tbody tr th {\n",
       "        vertical-align: top;\n",
       "    }\n",
       "\n",
       "    .dataframe thead th {\n",
       "        text-align: right;\n",
       "    }\n",
       "</style>\n",
       "<table border=\"1\" class=\"dataframe\">\n",
       "  <thead>\n",
       "    <tr style=\"text-align: right;\">\n",
       "      <th></th>\n",
       "      <th>link</th>\n",
       "      <th>dates</th>\n",
       "    </tr>\n",
       "  </thead>\n",
       "  <tbody>\n",
       "    <tr>\n",
       "      <th>100</th>\n",
       "      <td>http://data.gdeltproject.org/gdeltv2/201507020...</td>\n",
       "      <td>20150702</td>\n",
       "    </tr>\n",
       "    <tr>\n",
       "      <th>101</th>\n",
       "      <td>http://data.gdeltproject.org/gdeltv2/201507020...</td>\n",
       "      <td>20150702</td>\n",
       "    </tr>\n",
       "    <tr>\n",
       "      <th>102</th>\n",
       "      <td>http://data.gdeltproject.org/gdeltv2/201507020...</td>\n",
       "      <td>20150702</td>\n",
       "    </tr>\n",
       "    <tr>\n",
       "      <th>103</th>\n",
       "      <td>http://data.gdeltproject.org/gdeltv2/201507020...</td>\n",
       "      <td>20150702</td>\n",
       "    </tr>\n",
       "    <tr>\n",
       "      <th>104</th>\n",
       "      <td>http://data.gdeltproject.org/gdeltv2/201507020...</td>\n",
       "      <td>20150702</td>\n",
       "    </tr>\n",
       "    <tr>\n",
       "      <th>...</th>\n",
       "      <td>...</td>\n",
       "      <td>...</td>\n",
       "    </tr>\n",
       "    <tr>\n",
       "      <th>103078</th>\n",
       "      <td>http://data.gdeltproject.org/gdeltv2/201806302...</td>\n",
       "      <td>20180630</td>\n",
       "    </tr>\n",
       "    <tr>\n",
       "      <th>103079</th>\n",
       "      <td>http://data.gdeltproject.org/gdeltv2/201806302...</td>\n",
       "      <td>20180630</td>\n",
       "    </tr>\n",
       "    <tr>\n",
       "      <th>103080</th>\n",
       "      <td>http://data.gdeltproject.org/gdeltv2/201806302...</td>\n",
       "      <td>20180630</td>\n",
       "    </tr>\n",
       "    <tr>\n",
       "      <th>103081</th>\n",
       "      <td>http://data.gdeltproject.org/gdeltv2/201806302...</td>\n",
       "      <td>20180630</td>\n",
       "    </tr>\n",
       "    <tr>\n",
       "      <th>103082</th>\n",
       "      <td>http://data.gdeltproject.org/gdeltv2/201806281...</td>\n",
       "      <td>20180628</td>\n",
       "    </tr>\n",
       "  </tbody>\n",
       "</table>\n",
       "<p>102983 rows × 2 columns</p>\n",
       "</div>"
      ],
      "text/plain": [
       "                                                     link     dates\n",
       "100     http://data.gdeltproject.org/gdeltv2/201507020...  20150702\n",
       "101     http://data.gdeltproject.org/gdeltv2/201507020...  20150702\n",
       "102     http://data.gdeltproject.org/gdeltv2/201507020...  20150702\n",
       "103     http://data.gdeltproject.org/gdeltv2/201507020...  20150702\n",
       "104     http://data.gdeltproject.org/gdeltv2/201507020...  20150702\n",
       "...                                                   ...       ...\n",
       "103078  http://data.gdeltproject.org/gdeltv2/201806302...  20180630\n",
       "103079  http://data.gdeltproject.org/gdeltv2/201806302...  20180630\n",
       "103080  http://data.gdeltproject.org/gdeltv2/201806302...  20180630\n",
       "103081  http://data.gdeltproject.org/gdeltv2/201806302...  20180630\n",
       "103082  http://data.gdeltproject.org/gdeltv2/201806281...  20180628\n",
       "\n",
       "[102983 rows x 2 columns]"
      ]
     },
     "execution_count": 14,
     "metadata": {},
     "output_type": "execute_result"
    }
   ],
   "source": [
    "df_load[100:3045782309458723098574]"
   ]
  }
 ],
 "metadata": {
  "kernelspec": {
   "display_name": "Python 3",
   "language": "python",
   "name": "python3"
  },
  "language_info": {
   "codemirror_mode": {
    "name": "ipython",
    "version": 3
   },
   "file_extension": ".py",
   "mimetype": "text/x-python",
   "name": "python",
   "nbconvert_exporter": "python",
   "pygments_lexer": "ipython3",
   "version": "3.7.9"
  }
 },
 "nbformat": 4,
 "nbformat_minor": 4
}
