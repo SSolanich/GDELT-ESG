{
 "cells": [
  {
   "cell_type": "markdown",
   "metadata": {},
   "source": [
    "ejecutar este notebook luego de filter_masterfilelist.ipynb para generar un archivo de texto que contiene un listado de todas las entidades reconocidas por gdelt."
   ]
  },
  {
   "cell_type": "code",
   "execution_count": 3,
   "metadata": {},
   "outputs": [],
   "source": [
    "import pandas as pd\n",
    "from multiprocess import Pool\n",
    "import numpy as np"
   ]
  },
  {
   "cell_type": "code",
   "execution_count": 50,
   "metadata": {},
   "outputs": [],
   "source": [
    "df = pd.read_csv(\"english.gkg.oct2020-feb2021.txt\")"
   ]
  },
  {
   "cell_type": "code",
   "execution_count": 51,
   "metadata": {},
   "outputs": [
    {
     "data": {
      "text/html": [
       "<div>\n",
       "<style scoped>\n",
       "    .dataframe tbody tr th:only-of-type {\n",
       "        vertical-align: middle;\n",
       "    }\n",
       "\n",
       "    .dataframe tbody tr th {\n",
       "        vertical-align: top;\n",
       "    }\n",
       "\n",
       "    .dataframe thead th {\n",
       "        text-align: right;\n",
       "    }\n",
       "</style>\n",
       "<table border=\"1\" class=\"dataframe\">\n",
       "  <thead>\n",
       "    <tr style=\"text-align: right;\">\n",
       "      <th></th>\n",
       "      <th>link</th>\n",
       "      <th>dates</th>\n",
       "    </tr>\n",
       "  </thead>\n",
       "  <tbody>\n",
       "    <tr>\n",
       "      <th>0</th>\n",
       "      <td>http://data.gdeltproject.org/gdeltv2/202010010...</td>\n",
       "      <td>20201001</td>\n",
       "    </tr>\n",
       "    <tr>\n",
       "      <th>1</th>\n",
       "      <td>http://data.gdeltproject.org/gdeltv2/202010010...</td>\n",
       "      <td>20201001</td>\n",
       "    </tr>\n",
       "    <tr>\n",
       "      <th>2</th>\n",
       "      <td>http://data.gdeltproject.org/gdeltv2/202010010...</td>\n",
       "      <td>20201001</td>\n",
       "    </tr>\n",
       "    <tr>\n",
       "      <th>3</th>\n",
       "      <td>http://data.gdeltproject.org/gdeltv2/202010010...</td>\n",
       "      <td>20201001</td>\n",
       "    </tr>\n",
       "    <tr>\n",
       "      <th>4</th>\n",
       "      <td>http://data.gdeltproject.org/gdeltv2/202010010...</td>\n",
       "      <td>20201001</td>\n",
       "    </tr>\n",
       "    <tr>\n",
       "      <th>...</th>\n",
       "      <td>...</td>\n",
       "      <td>...</td>\n",
       "    </tr>\n",
       "    <tr>\n",
       "      <th>11543</th>\n",
       "      <td>http://data.gdeltproject.org/gdeltv2/202102231...</td>\n",
       "      <td>20210223</td>\n",
       "    </tr>\n",
       "    <tr>\n",
       "      <th>11544</th>\n",
       "      <td>http://data.gdeltproject.org/gdeltv2/202102231...</td>\n",
       "      <td>20210223</td>\n",
       "    </tr>\n",
       "    <tr>\n",
       "      <th>11545</th>\n",
       "      <td>http://data.gdeltproject.org/gdeltv2/202102232...</td>\n",
       "      <td>20210223</td>\n",
       "    </tr>\n",
       "    <tr>\n",
       "      <th>11546</th>\n",
       "      <td>http://data.gdeltproject.org/gdeltv2/202102232...</td>\n",
       "      <td>20210223</td>\n",
       "    </tr>\n",
       "    <tr>\n",
       "      <th>11547</th>\n",
       "      <td>http://data.gdeltproject.org/gdeltv2/202102232...</td>\n",
       "      <td>20210223</td>\n",
       "    </tr>\n",
       "  </tbody>\n",
       "</table>\n",
       "<p>11548 rows × 2 columns</p>\n",
       "</div>"
      ],
      "text/plain": [
       "                                                    link     dates\n",
       "0      http://data.gdeltproject.org/gdeltv2/202010010...  20201001\n",
       "1      http://data.gdeltproject.org/gdeltv2/202010010...  20201001\n",
       "2      http://data.gdeltproject.org/gdeltv2/202010010...  20201001\n",
       "3      http://data.gdeltproject.org/gdeltv2/202010010...  20201001\n",
       "4      http://data.gdeltproject.org/gdeltv2/202010010...  20201001\n",
       "...                                                  ...       ...\n",
       "11543  http://data.gdeltproject.org/gdeltv2/202102231...  20210223\n",
       "11544  http://data.gdeltproject.org/gdeltv2/202102231...  20210223\n",
       "11545  http://data.gdeltproject.org/gdeltv2/202102232...  20210223\n",
       "11546  http://data.gdeltproject.org/gdeltv2/202102232...  20210223\n",
       "11547  http://data.gdeltproject.org/gdeltv2/202102232...  20210223\n",
       "\n",
       "[11548 rows x 2 columns]"
      ]
     },
     "execution_count": 51,
     "metadata": {},
     "output_type": "execute_result"
    }
   ],
   "source": [
    "df"
   ]
  },
  {
   "cell_type": "code",
   "execution_count": 62,
   "metadata": {},
   "outputs": [],
   "source": [
    "def extract_entities(link_slice):\n",
    "    import urllib.request as req\n",
    "    import zipfile\n",
    "    import os\n",
    "    import pandas as pd\n",
    "    import numpy as np\n",
    "    entities = set()\n",
    "#     entities = []\n",
    "    for url in link_slice:\n",
    "        try:\n",
    "            filedata = req.urlopen(url)\n",
    "            datatowrite = filedata.read()\n",
    "            filename = url.split('/')[-1]\n",
    "            with open(f\"targetdir/{filename}\", 'wb') as f:\n",
    "                f.write(datatowrite)\n",
    "            with zipfile.ZipFile(f\"targetdir/{filename}\",\"r\") as zip_ref:\n",
    "                zip_ref.extractall(\"targetdir\")\n",
    "            df = pd.read_csv(f\"targetdir/{filename[:-4]}\", sep='\\t', usecols=[3, 13], header=None, encoding=\"latin-1\")\n",
    "            df = df.dropna()\n",
    "\n",
    "            os.remove(f\"targetdir/{filename}\")\n",
    "            os.remove(f\"targetdir/{filename[:-4]}\")\n",
    "\n",
    "            df[13] = df[13].str.split(';')\n",
    "\n",
    "#                 df = df[df[3].str.endswith(\".cl\")].reset_index(drop=True)\n",
    "            df = df.reset_index(drop=True) # necesario reiniciar el indice antes de concatenar\n",
    "            enty_list = np.concatenate(df[13])\n",
    "            entities = entities.union(enty_list)\n",
    "        except:\n",
    "            pass\n",
    "    return entities"
   ]
  },
  {
   "cell_type": "code",
   "execution_count": 56,
   "metadata": {},
   "outputs": [],
   "source": [
    "def extract_entities_mp():\n",
    "#     num_of_processes = 32\n",
    "    data_split = np.array_split(df[\"link\"], 16)\n",
    "    pool = Pool(16)\n",
    "    data = pool.map(extract_entities, data_split)\n",
    "    pool.close()\n",
    "    pool.join()\n",
    "    return data"
   ]
  },
  {
   "cell_type": "code",
   "execution_count": 8,
   "metadata": {},
   "outputs": [
    {
     "name": "stdout",
     "output_type": "stream",
     "text": [
      "Wall time: 3min 51s\n"
     ]
    }
   ],
   "source": [
    "%%time\n",
    "ents = extract_entities_mp() #8"
   ]
  },
  {
   "cell_type": "code",
   "execution_count": 10,
   "metadata": {},
   "outputs": [
    {
     "name": "stdout",
     "output_type": "stream",
     "text": [
      "Wall time: 3min 47s\n"
     ]
    }
   ],
   "source": [
    "%%time\n",
    "ents = extract_entities_mp() #16"
   ]
  },
  {
   "cell_type": "code",
   "execution_count": 12,
   "metadata": {},
   "outputs": [
    {
     "name": "stdout",
     "output_type": "stream",
     "text": [
      "Wall time: 3min 4s\n"
     ]
    }
   ],
   "source": [
    "%%time\n",
    "ents = extract_entities_mp() #16 , 16 cores"
   ]
  },
  {
   "cell_type": "code",
   "execution_count": 15,
   "metadata": {},
   "outputs": [
    {
     "name": "stdout",
     "output_type": "stream",
     "text": [
      "Wall time: 2min 58s\n"
     ]
    }
   ],
   "source": [
    "%%time\n",
    "ents = extract_entities_mp() #16 , 32 cores"
   ]
  },
  {
   "cell_type": "code",
   "execution_count": 17,
   "metadata": {},
   "outputs": [
    {
     "name": "stdout",
     "output_type": "stream",
     "text": [
      "Wall time: 2min 59s\n"
     ]
    }
   ],
   "source": [
    "%%time\n",
    "ents = extract_entities_mp() #32 , 32 cores"
   ]
  },
  {
   "cell_type": "code",
   "execution_count": 15,
   "metadata": {},
   "outputs": [
    {
     "name": "stdout",
     "output_type": "stream",
     "text": [
      "Wall time: 2min 9s\n"
     ]
    }
   ],
   "source": [
    "%%time\n",
    "ents = extract_entities_mp() #16 , 16 cores"
   ]
  },
  {
   "cell_type": "code",
   "execution_count": 76,
   "metadata": {},
   "outputs": [],
   "source": [
    "with open('entities_test.txt', 'w') as f:\n",
    "    for ent in set.union(*ents): #asegurar que result(ents) no esta vacio\n",
    "        f.write(f\"{ent}\\n\")"
   ]
  }
 ],
 "metadata": {
  "kernelspec": {
   "display_name": "Python 3",
   "language": "python",
   "name": "python3"
  },
  "language_info": {
   "codemirror_mode": {
    "name": "ipython",
    "version": 3
   },
   "file_extension": ".py",
   "mimetype": "text/x-python",
   "name": "python",
   "nbconvert_exporter": "python",
   "pygments_lexer": "ipython3",
   "version": "3.7.9"
  }
 },
 "nbformat": 4,
 "nbformat_minor": 4
}
