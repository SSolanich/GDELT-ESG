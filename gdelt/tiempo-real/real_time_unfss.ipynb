{
 "cells": [
  {
   "cell_type": "markdown",
   "metadata": {},
   "source": [
    "Este notebook tiene como fin ser un monitoreo de los datos mas recientes de gdelt, utiliza el archivo que se actualiza cada 15 minutos\n",
    "\n",
    "En particular busca en el archivo más reciente si hay menciones de las entidades referentes al Food System Summit"
   ]
  },
  {
   "cell_type": "code",
   "execution_count": 51,
   "metadata": {},
   "outputs": [],
   "source": [
    "import pandas as pd\n",
    "from datetime import datetime, timedelta"
   ]
  },
  {
   "cell_type": "code",
   "execution_count": 60,
   "metadata": {},
   "outputs": [],
   "source": [
    "import urllib.request as req\n",
    "import zipfile\n",
    "import os\n",
    "import numpy as np"
   ]
  },
  {
   "cell_type": "code",
   "execution_count": 53,
   "metadata": {},
   "outputs": [],
   "source": [
    "# crear objeto datetime en base al string de fecha\n",
    "time_obj = datetime.strptime(\"2021-02-01-0000\", '%Y-%m-%d-%H%M')"
   ]
  },
  {
   "cell_type": "code",
   "execution_count": 69,
   "metadata": {},
   "outputs": [],
   "source": [
    "def get_date(datetime_obj):\n",
    "    return \"\".join(datetime_obj.strftime(x) for x in [\"%Y\", \"%m\", \"%d\", \"%H\", \"%M\"]) + \"00\"\n",
    "\n",
    "date = get_date(time_obj)"
   ]
  },
  {
   "cell_type": "code",
   "execution_count": 70,
   "metadata": {},
   "outputs": [
    {
     "data": {
      "text/plain": [
       "'20210201000000'"
      ]
     },
     "execution_count": 70,
     "metadata": {},
     "output_type": "execute_result"
    }
   ],
   "source": [
    "date"
   ]
  },
  {
   "cell_type": "code",
   "execution_count": 59,
   "metadata": {},
   "outputs": [],
   "source": [
    "url = f\"http://data.gdeltproject.org/gdeltv2/{date}.gkg.csv.zip\""
   ]
  },
  {
   "cell_type": "code",
   "execution_count": 61,
   "metadata": {},
   "outputs": [],
   "source": [
    "filedata = req.urlopen(url)\n",
    "datatowrite = filedata.read()\n",
    "filename = url.split('/')[-1]\n",
    "with open(f\"real_time/{filename}\", 'wb') as f:\n",
    "    f.write(datatowrite)\n",
    "with zipfile.ZipFile(f\"real_time/{filename}\",\"r\") as zip_ref:\n",
    "    zip_ref.extractall(\"real_time\")"
   ]
  },
  {
   "cell_type": "code",
   "execution_count": 62,
   "metadata": {},
   "outputs": [],
   "source": [
    "df = pd.read_csv(f\"real_time/{filename[:-4]}\", sep='\\t', header=None, encoding=\"latin-1\") # cols 3 link, 13 entities\n",
    "df = df[~df[13].isnull()].reset_index(drop=True)"
   ]
  },
  {
   "cell_type": "code",
   "execution_count": 63,
   "metadata": {},
   "outputs": [
    {
     "data": {
      "text/plain": [
       "0      centre for strategic studies;university of jor...\n",
       "1      u s marine mammal commission;university of cal...\n",
       "2                 instagram;guitar international;youtube\n",
       "3                  oklahoma city thunder;houston rockets\n",
       "4                               texas baptist university\n",
       "                             ...                        \n",
       "689                             athletic club in la liga\n",
       "690    chicago teachers union;suder montessori magnet...\n",
       "691                            pfizer;ministry of health\n",
       "692    republican party;kinzinger future first leader...\n",
       "693    school activities;university of akron;veterina...\n",
       "Name: 13, Length: 694, dtype: object"
      ]
     },
     "execution_count": 63,
     "metadata": {},
     "output_type": "execute_result"
    }
   ],
   "source": [
    "df[13]"
   ]
  },
  {
   "cell_type": "code",
   "execution_count": 64,
   "metadata": {},
   "outputs": [],
   "source": [
    "os.remove(f\"real_time/{filename}\")\n",
    "os.remove(f\"real_time/{filename[:-4]}\")"
   ]
  },
  {
   "cell_type": "code",
   "execution_count": 66,
   "metadata": {},
   "outputs": [],
   "source": [
    "searched_entities = [\"un-fss\", \"unfss\", \"fss\", \"food systems summit\", \"food system summit\", r\"un[ a-z0-9]*summit\", r\"food[ a-z0-9]*summit\"]"
   ]
  },
  {
   "cell_type": "code",
   "execution_count": 67,
   "metadata": {},
   "outputs": [],
   "source": [
    "found = False\n",
    "for i in range(len(searched_entities)):\n",
    "    found = found | df[13].str.contains(searched_entities[i], regex=True)"
   ]
  },
  {
   "cell_type": "code",
   "execution_count": 47,
   "metadata": {},
   "outputs": [
    {
     "data": {
      "text/plain": [
       "False"
      ]
     },
     "execution_count": 47,
     "metadata": {},
     "output_type": "execute_result"
    }
   ],
   "source": [
    "if found.any():\n",
    "    with open(\"real_time/found_files.txt\", 'w') as f:\n",
    "        f.write(f\"{date}\\n\")"
   ]
  },
  {
   "cell_type": "code",
   "execution_count": 71,
   "metadata": {},
   "outputs": [],
   "source": [
    "time_obj += timedelta(minutes=15)"
   ]
  },
  {
   "cell_type": "code",
   "execution_count": 76,
   "metadata": {},
   "outputs": [
    {
     "data": {
      "text/plain": [
       "datetime.datetime(2021, 2, 1, 0, 15)"
      ]
     },
     "execution_count": 76,
     "metadata": {},
     "output_type": "execute_result"
    }
   ],
   "source": [
    "time_obj"
   ]
  },
  {
   "cell_type": "code",
   "execution_count": 73,
   "metadata": {},
   "outputs": [
    {
     "data": {
      "text/plain": [
       "'20210201001500'"
      ]
     },
     "execution_count": 73,
     "metadata": {},
     "output_type": "execute_result"
    }
   ],
   "source": [
    "date = get_date(time_obj)"
   ]
  },
  {
   "cell_type": "markdown",
   "metadata": {},
   "source": [
    "basta con realizar un loop infinito sobre el codigo anterior para actualizar en tiempo real (15 min)"
   ]
  }
 ],
 "metadata": {
  "kernelspec": {
   "display_name": "Python 3",
   "language": "python",
   "name": "python3"
  },
  "language_info": {
   "codemirror_mode": {
    "name": "ipython",
    "version": 3
   },
   "file_extension": ".py",
   "mimetype": "text/x-python",
   "name": "python",
   "nbconvert_exporter": "python",
   "pygments_lexer": "ipython3",
   "version": "3.7.9"
  }
 },
 "nbformat": 4,
 "nbformat_minor": 4
}
